{
 "cells": [
  {
   "cell_type": "code",
   "execution_count": 7,
   "id": "df423517",
   "metadata": {},
   "outputs": [],
   "source": [
    "import pandas as pd"
   ]
  },
  {
   "cell_type": "code",
   "execution_count": 8,
   "id": "9c9ef920",
   "metadata": {},
   "outputs": [],
   "source": [
    "df = pd.read_csv(r\"C:\\Users\\ASUS\\Desktop\\Kaggle Data\\spotify_millsongdata.csv\")"
   ]
  },
  {
   "cell_type": "code",
   "execution_count": 9,
   "id": "8b21130a",
   "metadata": {},
   "outputs": [
    {
     "data": {
      "text/html": [
       "<div>\n",
       "<style scoped>\n",
       "    .dataframe tbody tr th:only-of-type {\n",
       "        vertical-align: middle;\n",
       "    }\n",
       "\n",
       "    .dataframe tbody tr th {\n",
       "        vertical-align: top;\n",
       "    }\n",
       "\n",
       "    .dataframe thead th {\n",
       "        text-align: right;\n",
       "    }\n",
       "</style>\n",
       "<table border=\"1\" class=\"dataframe\">\n",
       "  <thead>\n",
       "    <tr style=\"text-align: right;\">\n",
       "      <th></th>\n",
       "      <th>artist</th>\n",
       "      <th>song</th>\n",
       "      <th>link</th>\n",
       "      <th>text</th>\n",
       "    </tr>\n",
       "  </thead>\n",
       "  <tbody>\n",
       "    <tr>\n",
       "      <th>0</th>\n",
       "      <td>ABBA</td>\n",
       "      <td>Ahe's My Kind Of Girl</td>\n",
       "      <td>/a/abba/ahes+my+kind+of+girl_20598417.html</td>\n",
       "      <td>Look at her face, it's a wonderful face  \\r\\nA...</td>\n",
       "    </tr>\n",
       "    <tr>\n",
       "      <th>1</th>\n",
       "      <td>ABBA</td>\n",
       "      <td>Andante, Andante</td>\n",
       "      <td>/a/abba/andante+andante_20002708.html</td>\n",
       "      <td>Take it easy with me, please  \\r\\nTouch me gen...</td>\n",
       "    </tr>\n",
       "    <tr>\n",
       "      <th>2</th>\n",
       "      <td>ABBA</td>\n",
       "      <td>As Good As New</td>\n",
       "      <td>/a/abba/as+good+as+new_20003033.html</td>\n",
       "      <td>I'll never know why I had to go  \\r\\nWhy I had...</td>\n",
       "    </tr>\n",
       "    <tr>\n",
       "      <th>3</th>\n",
       "      <td>ABBA</td>\n",
       "      <td>Bang</td>\n",
       "      <td>/a/abba/bang_20598415.html</td>\n",
       "      <td>Making somebody happy is a question of give an...</td>\n",
       "    </tr>\n",
       "    <tr>\n",
       "      <th>4</th>\n",
       "      <td>ABBA</td>\n",
       "      <td>Bang-A-Boomerang</td>\n",
       "      <td>/a/abba/bang+a+boomerang_20002668.html</td>\n",
       "      <td>Making somebody happy is a question of give an...</td>\n",
       "    </tr>\n",
       "  </tbody>\n",
       "</table>\n",
       "</div>"
      ],
      "text/plain": [
       "  artist                   song                                        link  \\\n",
       "0   ABBA  Ahe's My Kind Of Girl  /a/abba/ahes+my+kind+of+girl_20598417.html   \n",
       "1   ABBA       Andante, Andante       /a/abba/andante+andante_20002708.html   \n",
       "2   ABBA         As Good As New        /a/abba/as+good+as+new_20003033.html   \n",
       "3   ABBA                   Bang                  /a/abba/bang_20598415.html   \n",
       "4   ABBA       Bang-A-Boomerang      /a/abba/bang+a+boomerang_20002668.html   \n",
       "\n",
       "                                                text  \n",
       "0  Look at her face, it's a wonderful face  \\r\\nA...  \n",
       "1  Take it easy with me, please  \\r\\nTouch me gen...  \n",
       "2  I'll never know why I had to go  \\r\\nWhy I had...  \n",
       "3  Making somebody happy is a question of give an...  \n",
       "4  Making somebody happy is a question of give an...  "
      ]
     },
     "execution_count": 9,
     "metadata": {},
     "output_type": "execute_result"
    }
   ],
   "source": [
    "df.head(5)"
   ]
  },
  {
   "cell_type": "code",
   "execution_count": 10,
   "id": "7d9010bd",
   "metadata": {},
   "outputs": [
    {
     "data": {
      "text/html": [
       "<div>\n",
       "<style scoped>\n",
       "    .dataframe tbody tr th:only-of-type {\n",
       "        vertical-align: middle;\n",
       "    }\n",
       "\n",
       "    .dataframe tbody tr th {\n",
       "        vertical-align: top;\n",
       "    }\n",
       "\n",
       "    .dataframe thead th {\n",
       "        text-align: right;\n",
       "    }\n",
       "</style>\n",
       "<table border=\"1\" class=\"dataframe\">\n",
       "  <thead>\n",
       "    <tr style=\"text-align: right;\">\n",
       "      <th></th>\n",
       "      <th>artist</th>\n",
       "      <th>song</th>\n",
       "      <th>link</th>\n",
       "      <th>text</th>\n",
       "    </tr>\n",
       "  </thead>\n",
       "  <tbody>\n",
       "    <tr>\n",
       "      <th>57645</th>\n",
       "      <td>Ziggy Marley</td>\n",
       "      <td>Good Old Days</td>\n",
       "      <td>/z/ziggy+marley/good+old+days_10198588.html</td>\n",
       "      <td>Irie days come on play  \\r\\nLet the angels fly...</td>\n",
       "    </tr>\n",
       "    <tr>\n",
       "      <th>57646</th>\n",
       "      <td>Ziggy Marley</td>\n",
       "      <td>Hand To Mouth</td>\n",
       "      <td>/z/ziggy+marley/hand+to+mouth_20531167.html</td>\n",
       "      <td>Power to the workers  \\r\\nMore power  \\r\\nPowe...</td>\n",
       "    </tr>\n",
       "    <tr>\n",
       "      <th>57647</th>\n",
       "      <td>Zwan</td>\n",
       "      <td>Come With Me</td>\n",
       "      <td>/z/zwan/come+with+me_20148981.html</td>\n",
       "      <td>all you need  \\r\\nis something i'll believe  \\...</td>\n",
       "    </tr>\n",
       "    <tr>\n",
       "      <th>57648</th>\n",
       "      <td>Zwan</td>\n",
       "      <td>Desire</td>\n",
       "      <td>/z/zwan/desire_20148986.html</td>\n",
       "      <td>northern star  \\r\\nam i frightened  \\r\\nwhere ...</td>\n",
       "    </tr>\n",
       "    <tr>\n",
       "      <th>57649</th>\n",
       "      <td>Zwan</td>\n",
       "      <td>Heartsong</td>\n",
       "      <td>/z/zwan/heartsong_20148991.html</td>\n",
       "      <td>come in  \\r\\nmake yourself at home  \\r\\ni'm a ...</td>\n",
       "    </tr>\n",
       "  </tbody>\n",
       "</table>\n",
       "</div>"
      ],
      "text/plain": [
       "             artist           song  \\\n",
       "57645  Ziggy Marley  Good Old Days   \n",
       "57646  Ziggy Marley  Hand To Mouth   \n",
       "57647          Zwan   Come With Me   \n",
       "57648          Zwan         Desire   \n",
       "57649          Zwan      Heartsong   \n",
       "\n",
       "                                              link  \\\n",
       "57645  /z/ziggy+marley/good+old+days_10198588.html   \n",
       "57646  /z/ziggy+marley/hand+to+mouth_20531167.html   \n",
       "57647           /z/zwan/come+with+me_20148981.html   \n",
       "57648                 /z/zwan/desire_20148986.html   \n",
       "57649              /z/zwan/heartsong_20148991.html   \n",
       "\n",
       "                                                    text  \n",
       "57645  Irie days come on play  \\r\\nLet the angels fly...  \n",
       "57646  Power to the workers  \\r\\nMore power  \\r\\nPowe...  \n",
       "57647  all you need  \\r\\nis something i'll believe  \\...  \n",
       "57648  northern star  \\r\\nam i frightened  \\r\\nwhere ...  \n",
       "57649  come in  \\r\\nmake yourself at home  \\r\\ni'm a ...  "
      ]
     },
     "execution_count": 10,
     "metadata": {},
     "output_type": "execute_result"
    }
   ],
   "source": [
    "df.tail(5)"
   ]
  },
  {
   "cell_type": "code",
   "execution_count": 11,
   "id": "9f931696",
   "metadata": {},
   "outputs": [
    {
     "data": {
      "text/plain": [
       "(57650, 4)"
      ]
     },
     "execution_count": 11,
     "metadata": {},
     "output_type": "execute_result"
    }
   ],
   "source": [
    "df.shape"
   ]
  },
  {
   "cell_type": "code",
   "execution_count": 12,
   "id": "14663a28",
   "metadata": {},
   "outputs": [
    {
     "data": {
      "text/plain": [
       "artist    0\n",
       "song      0\n",
       "link      0\n",
       "text      0\n",
       "dtype: int64"
      ]
     },
     "execution_count": 12,
     "metadata": {},
     "output_type": "execute_result"
    }
   ],
   "source": [
    "df.isnull().sum()"
   ]
  },
  {
   "cell_type": "code",
   "execution_count": 13,
   "id": "f527882b",
   "metadata": {},
   "outputs": [],
   "source": [
    "df = df.sample(5000).drop('link',axis=1).reset_index(drop=True)"
   ]
  },
  {
   "cell_type": "code",
   "execution_count": 14,
   "id": "24e17417",
   "metadata": {},
   "outputs": [
    {
     "data": {
      "text/html": [
       "<div>\n",
       "<style scoped>\n",
       "    .dataframe tbody tr th:only-of-type {\n",
       "        vertical-align: middle;\n",
       "    }\n",
       "\n",
       "    .dataframe tbody tr th {\n",
       "        vertical-align: top;\n",
       "    }\n",
       "\n",
       "    .dataframe thead th {\n",
       "        text-align: right;\n",
       "    }\n",
       "</style>\n",
       "<table border=\"1\" class=\"dataframe\">\n",
       "  <thead>\n",
       "    <tr style=\"text-align: right;\">\n",
       "      <th></th>\n",
       "      <th>artist</th>\n",
       "      <th>song</th>\n",
       "      <th>text</th>\n",
       "    </tr>\n",
       "  </thead>\n",
       "  <tbody>\n",
       "    <tr>\n",
       "      <th>0</th>\n",
       "      <td>Lynyrd Skynyrd</td>\n",
       "      <td>Michelle</td>\n",
       "      <td>Michelle, little girl I need you baby  \\r\\nMor...</td>\n",
       "    </tr>\n",
       "    <tr>\n",
       "      <th>1</th>\n",
       "      <td>Uriah Heep</td>\n",
       "      <td>Rain</td>\n",
       "      <td>It's raining outside  \\r\\nBut that's not unusu...</td>\n",
       "    </tr>\n",
       "    <tr>\n",
       "      <th>2</th>\n",
       "      <td>Sting</td>\n",
       "      <td>Natural High</td>\n",
       "      <td>Ooh!  \\r\\nWho needs the sky?  \\r\\nJust watch m...</td>\n",
       "    </tr>\n",
       "    <tr>\n",
       "      <th>3</th>\n",
       "      <td>Queen Adreena</td>\n",
       "      <td>Medicine Jar</td>\n",
       "      <td>My baby talks in his sleep  \\r\\nI said wake hi...</td>\n",
       "    </tr>\n",
       "    <tr>\n",
       "      <th>4</th>\n",
       "      <td>Eddie Cochran</td>\n",
       "      <td>Don't Bye-bye-baby Me</td>\n",
       "      <td>Well honey-honey please don't go  \\r\\nDon't yo...</td>\n",
       "    </tr>\n",
       "    <tr>\n",
       "      <th>5</th>\n",
       "      <td>Eddie Cochran</td>\n",
       "      <td>Cut Across Shorty</td>\n",
       "      <td>Now a country boy called shorty  \\r\\nAnd a cit...</td>\n",
       "    </tr>\n",
       "    <tr>\n",
       "      <th>6</th>\n",
       "      <td>Linda Ronstadt</td>\n",
       "      <td>Goodbye My Friend</td>\n",
       "      <td>Oh we never know where life will take us  \\r\\n...</td>\n",
       "    </tr>\n",
       "    <tr>\n",
       "      <th>7</th>\n",
       "      <td>Eric Clapton</td>\n",
       "      <td>It Ain't Right</td>\n",
       "      <td>You know it ain't right just to treat me this ...</td>\n",
       "    </tr>\n",
       "    <tr>\n",
       "      <th>8</th>\n",
       "      <td>Dewa 19</td>\n",
       "      <td>Arjuna</td>\n",
       "      <td>[Verse 1]  \\r\\nSudah kudaki gunung tertinggi  ...</td>\n",
       "    </tr>\n",
       "    <tr>\n",
       "      <th>9</th>\n",
       "      <td>Glen Campbell</td>\n",
       "      <td>Faith</td>\n",
       "      <td>You must have faith in everything you do  \\r\\n...</td>\n",
       "    </tr>\n",
       "  </tbody>\n",
       "</table>\n",
       "</div>"
      ],
      "text/plain": [
       "           artist                   song  \\\n",
       "0  Lynyrd Skynyrd               Michelle   \n",
       "1      Uriah Heep                   Rain   \n",
       "2           Sting           Natural High   \n",
       "3   Queen Adreena           Medicine Jar   \n",
       "4   Eddie Cochran  Don't Bye-bye-baby Me   \n",
       "5   Eddie Cochran      Cut Across Shorty   \n",
       "6  Linda Ronstadt      Goodbye My Friend   \n",
       "7    Eric Clapton         It Ain't Right   \n",
       "8         Dewa 19                 Arjuna   \n",
       "9   Glen Campbell                  Faith   \n",
       "\n",
       "                                                text  \n",
       "0  Michelle, little girl I need you baby  \\r\\nMor...  \n",
       "1  It's raining outside  \\r\\nBut that's not unusu...  \n",
       "2  Ooh!  \\r\\nWho needs the sky?  \\r\\nJust watch m...  \n",
       "3  My baby talks in his sleep  \\r\\nI said wake hi...  \n",
       "4  Well honey-honey please don't go  \\r\\nDon't yo...  \n",
       "5  Now a country boy called shorty  \\r\\nAnd a cit...  \n",
       "6  Oh we never know where life will take us  \\r\\n...  \n",
       "7  You know it ain't right just to treat me this ...  \n",
       "8  [Verse 1]  \\r\\nSudah kudaki gunung tertinggi  ...  \n",
       "9  You must have faith in everything you do  \\r\\n...  "
      ]
     },
     "execution_count": 14,
     "metadata": {},
     "output_type": "execute_result"
    }
   ],
   "source": [
    "df.head(10)"
   ]
  },
  {
   "cell_type": "code",
   "execution_count": 15,
   "id": "884b6f4c",
   "metadata": {},
   "outputs": [
    {
     "data": {
      "text/plain": [
       "\"Michelle, little girl I need you baby  \\r\\nMore than the air I breathe  \\r\\nMy love for you grows stronger babe  \\r\\nMy words you must believe  \\r\\nWell I need to see you laugh again  \\r\\nAnd I want to see you smile  \\r\\nMichelle, little girl I love you baby  \\r\\nYou're my only child  \\r\\nMichelle, little girl the pain for you  \\r\\nIs hurting me inside  \\r\\nAt night I think of you sometimes  \\r\\nI lean my head and cry  \\r\\nI need to see you laugh again  \\r\\nAnd I wanna see you smile  \\r\\nMichelle, little girl I love you baby  \\r\\nYou're my only child  \\r\\nMichelle, little girl I need you baby  \\r\\nMore than the air I breathe  \\r\\nMy love for you grows stronger babe  \\r\\nMy words you must believe  \\r\\nI need to see you laugh again  \\r\\nAnd I wanna see you smile  \\r\\nMichelle, little girl I love you baby  \\r\\nYou're my only child  \\r\\n\\r\\n\""
      ]
     },
     "execution_count": 15,
     "metadata": {},
     "output_type": "execute_result"
    }
   ],
   "source": [
    "df['text'][0]"
   ]
  },
  {
   "cell_type": "code",
   "execution_count": 16,
   "id": "7fa1f9bc",
   "metadata": {},
   "outputs": [
    {
     "data": {
      "text/plain": [
       "(5000, 3)"
      ]
     },
     "execution_count": 16,
     "metadata": {},
     "output_type": "execute_result"
    }
   ],
   "source": [
    "df.shape"
   ]
  },
  {
   "cell_type": "markdown",
   "id": "3eb03301",
   "metadata": {},
   "source": [
    "Text Cleaning/ Text Preprocessing"
   ]
  },
  {
   "cell_type": "code",
   "execution_count": 17,
   "id": "e4c9cf8b",
   "metadata": {},
   "outputs": [
    {
     "data": {
      "text/plain": [
       "0       michelle, little girl i need you baby  \\r more...\n",
       "1       it's raining outside  \\r but that's not unusua...\n",
       "2       ooh!  \\r who needs the sky?  \\r just watch me ...\n",
       "3       my baby talks in his sleep  \\r i said wake him...\n",
       "4       well honey-honey please don't go  \\r don't you...\n",
       "                              ...                        \n",
       "4995    baby i think we both know it's gone wrong, wro...\n",
       "4996    when i was a boy  \\r i never played with toys ...\n",
       "4997    come with me come with me now  \\r inside the g...\n",
       "4998    try, try, try just a little bit harder  \\r so ...\n",
       "4999    maybe we forced the deal, delivered some kind ...\n",
       "Name: text, Length: 5000, dtype: object"
      ]
     },
     "execution_count": 17,
     "metadata": {},
     "output_type": "execute_result"
    }
   ],
   "source": [
    "df['text'].str.lower().replace(r'^\\w\\s', ' ').replace(r'\\n', ' ', regex = True)"
   ]
  },
  {
   "cell_type": "code",
   "execution_count": 18,
   "id": "8cf3ceba",
   "metadata": {},
   "outputs": [],
   "source": [
    "df['text'] = df['text'].str.lower().replace(r'^\\w\\s', ' ').replace(r'\\n', ' ', regex = True)"
   ]
  },
  {
   "cell_type": "code",
   "execution_count": 19,
   "id": "859ddb2d",
   "metadata": {},
   "outputs": [
    {
     "data": {
      "text/html": [
       "<div>\n",
       "<style scoped>\n",
       "    .dataframe tbody tr th:only-of-type {\n",
       "        vertical-align: middle;\n",
       "    }\n",
       "\n",
       "    .dataframe tbody tr th {\n",
       "        vertical-align: top;\n",
       "    }\n",
       "\n",
       "    .dataframe thead th {\n",
       "        text-align: right;\n",
       "    }\n",
       "</style>\n",
       "<table border=\"1\" class=\"dataframe\">\n",
       "  <thead>\n",
       "    <tr style=\"text-align: right;\">\n",
       "      <th></th>\n",
       "      <th>artist</th>\n",
       "      <th>song</th>\n",
       "      <th>text</th>\n",
       "    </tr>\n",
       "  </thead>\n",
       "  <tbody>\n",
       "    <tr>\n",
       "      <th>0</th>\n",
       "      <td>Lynyrd Skynyrd</td>\n",
       "      <td>Michelle</td>\n",
       "      <td>michelle, little girl i need you baby  \\r more...</td>\n",
       "    </tr>\n",
       "    <tr>\n",
       "      <th>1</th>\n",
       "      <td>Uriah Heep</td>\n",
       "      <td>Rain</td>\n",
       "      <td>it's raining outside  \\r but that's not unusua...</td>\n",
       "    </tr>\n",
       "    <tr>\n",
       "      <th>2</th>\n",
       "      <td>Sting</td>\n",
       "      <td>Natural High</td>\n",
       "      <td>ooh!  \\r who needs the sky?  \\r just watch me ...</td>\n",
       "    </tr>\n",
       "    <tr>\n",
       "      <th>3</th>\n",
       "      <td>Queen Adreena</td>\n",
       "      <td>Medicine Jar</td>\n",
       "      <td>my baby talks in his sleep  \\r i said wake him...</td>\n",
       "    </tr>\n",
       "    <tr>\n",
       "      <th>4</th>\n",
       "      <td>Eddie Cochran</td>\n",
       "      <td>Don't Bye-bye-baby Me</td>\n",
       "      <td>well honey-honey please don't go  \\r don't you...</td>\n",
       "    </tr>\n",
       "    <tr>\n",
       "      <th>...</th>\n",
       "      <td>...</td>\n",
       "      <td>...</td>\n",
       "      <td>...</td>\n",
       "    </tr>\n",
       "    <tr>\n",
       "      <th>4995</th>\n",
       "      <td>Tim McGraw</td>\n",
       "      <td>Me And Tennessee</td>\n",
       "      <td>baby i think we both know it's gone wrong, wro...</td>\n",
       "    </tr>\n",
       "    <tr>\n",
       "      <th>4996</th>\n",
       "      <td>Alice Cooper</td>\n",
       "      <td>Make That Money (Scrooge's Song)</td>\n",
       "      <td>when i was a boy  \\r i never played with toys ...</td>\n",
       "    </tr>\n",
       "    <tr>\n",
       "      <th>4997</th>\n",
       "      <td>Scorpions</td>\n",
       "      <td>Mind Like A Tree</td>\n",
       "      <td>come with me come with me now  \\r inside the g...</td>\n",
       "    </tr>\n",
       "    <tr>\n",
       "      <th>4998</th>\n",
       "      <td>Janis Joplin</td>\n",
       "      <td>Try</td>\n",
       "      <td>try, try, try just a little bit harder  \\r so ...</td>\n",
       "    </tr>\n",
       "    <tr>\n",
       "      <th>4999</th>\n",
       "      <td>Europe</td>\n",
       "      <td>Always The Pretenders</td>\n",
       "      <td>maybe we forced the deal, delivered some kind ...</td>\n",
       "    </tr>\n",
       "  </tbody>\n",
       "</table>\n",
       "<p>5000 rows × 3 columns</p>\n",
       "</div>"
      ],
      "text/plain": [
       "              artist                              song  \\\n",
       "0     Lynyrd Skynyrd                          Michelle   \n",
       "1         Uriah Heep                              Rain   \n",
       "2              Sting                      Natural High   \n",
       "3      Queen Adreena                      Medicine Jar   \n",
       "4      Eddie Cochran             Don't Bye-bye-baby Me   \n",
       "...              ...                               ...   \n",
       "4995      Tim McGraw                  Me And Tennessee   \n",
       "4996    Alice Cooper  Make That Money (Scrooge's Song)   \n",
       "4997       Scorpions                  Mind Like A Tree   \n",
       "4998    Janis Joplin                               Try   \n",
       "4999          Europe             Always The Pretenders   \n",
       "\n",
       "                                                   text  \n",
       "0     michelle, little girl i need you baby  \\r more...  \n",
       "1     it's raining outside  \\r but that's not unusua...  \n",
       "2     ooh!  \\r who needs the sky?  \\r just watch me ...  \n",
       "3     my baby talks in his sleep  \\r i said wake him...  \n",
       "4     well honey-honey please don't go  \\r don't you...  \n",
       "...                                                 ...  \n",
       "4995  baby i think we both know it's gone wrong, wro...  \n",
       "4996  when i was a boy  \\r i never played with toys ...  \n",
       "4997  come with me come with me now  \\r inside the g...  \n",
       "4998  try, try, try just a little bit harder  \\r so ...  \n",
       "4999  maybe we forced the deal, delivered some kind ...  \n",
       "\n",
       "[5000 rows x 3 columns]"
      ]
     },
     "execution_count": 19,
     "metadata": {},
     "output_type": "execute_result"
    }
   ],
   "source": [
    "df"
   ]
  },
  {
   "cell_type": "code",
   "execution_count": 20,
   "id": "52261764",
   "metadata": {
    "scrolled": true
   },
   "outputs": [
    {
     "data": {
      "text/html": [
       "<div>\n",
       "<style scoped>\n",
       "    .dataframe tbody tr th:only-of-type {\n",
       "        vertical-align: middle;\n",
       "    }\n",
       "\n",
       "    .dataframe tbody tr th {\n",
       "        vertical-align: top;\n",
       "    }\n",
       "\n",
       "    .dataframe thead th {\n",
       "        text-align: right;\n",
       "    }\n",
       "</style>\n",
       "<table border=\"1\" class=\"dataframe\">\n",
       "  <thead>\n",
       "    <tr style=\"text-align: right;\">\n",
       "      <th></th>\n",
       "      <th>artist</th>\n",
       "      <th>song</th>\n",
       "      <th>text</th>\n",
       "    </tr>\n",
       "  </thead>\n",
       "  <tbody>\n",
       "    <tr>\n",
       "      <th>4995</th>\n",
       "      <td>Tim McGraw</td>\n",
       "      <td>Me And Tennessee</td>\n",
       "      <td>baby i think we both know it's gone wrong, wro...</td>\n",
       "    </tr>\n",
       "    <tr>\n",
       "      <th>4996</th>\n",
       "      <td>Alice Cooper</td>\n",
       "      <td>Make That Money (Scrooge's Song)</td>\n",
       "      <td>when i was a boy  \\r i never played with toys ...</td>\n",
       "    </tr>\n",
       "    <tr>\n",
       "      <th>4997</th>\n",
       "      <td>Scorpions</td>\n",
       "      <td>Mind Like A Tree</td>\n",
       "      <td>come with me come with me now  \\r inside the g...</td>\n",
       "    </tr>\n",
       "    <tr>\n",
       "      <th>4998</th>\n",
       "      <td>Janis Joplin</td>\n",
       "      <td>Try</td>\n",
       "      <td>try, try, try just a little bit harder  \\r so ...</td>\n",
       "    </tr>\n",
       "    <tr>\n",
       "      <th>4999</th>\n",
       "      <td>Europe</td>\n",
       "      <td>Always The Pretenders</td>\n",
       "      <td>maybe we forced the deal, delivered some kind ...</td>\n",
       "    </tr>\n",
       "  </tbody>\n",
       "</table>\n",
       "</div>"
      ],
      "text/plain": [
       "            artist                              song  \\\n",
       "4995    Tim McGraw                  Me And Tennessee   \n",
       "4996  Alice Cooper  Make That Money (Scrooge's Song)   \n",
       "4997     Scorpions                  Mind Like A Tree   \n",
       "4998  Janis Joplin                               Try   \n",
       "4999        Europe             Always The Pretenders   \n",
       "\n",
       "                                                   text  \n",
       "4995  baby i think we both know it's gone wrong, wro...  \n",
       "4996  when i was a boy  \\r i never played with toys ...  \n",
       "4997  come with me come with me now  \\r inside the g...  \n",
       "4998  try, try, try just a little bit harder  \\r so ...  \n",
       "4999  maybe we forced the deal, delivered some kind ...  "
      ]
     },
     "execution_count": 20,
     "metadata": {},
     "output_type": "execute_result"
    }
   ],
   "source": [
    "df.tail(5)"
   ]
  },
  {
   "cell_type": "code",
   "execution_count": 21,
   "id": "08f37102",
   "metadata": {},
   "outputs": [],
   "source": [
    "import nltk\n",
    "from nltk.stem.porter import PorterStemmer"
   ]
  },
  {
   "cell_type": "code",
   "execution_count": 22,
   "id": "383cabfe",
   "metadata": {},
   "outputs": [],
   "source": [
    "stemmer = PorterStemmer()"
   ]
  },
  {
   "cell_type": "code",
   "execution_count": 23,
   "id": "6e4aaa7d",
   "metadata": {},
   "outputs": [],
   "source": [
    "def token(txt):\n",
    "    token = nltk.word_tokenize(txt)\n",
    "    a = [stemmer.stem(w) for w in token]\n",
    "    return \" \".join(a)"
   ]
  },
  {
   "cell_type": "code",
   "execution_count": 24,
   "id": "478d38cc",
   "metadata": {},
   "outputs": [
    {
     "data": {
      "text/plain": [
       "'you are beauti , beauti'"
      ]
     },
     "execution_count": 24,
     "metadata": {},
     "output_type": "execute_result"
    }
   ],
   "source": [
    "token(\"you are beautiful, beauty\")"
   ]
  },
  {
   "cell_type": "code",
   "execution_count": 25,
   "id": "40be84c5",
   "metadata": {},
   "outputs": [
    {
     "data": {
      "text/plain": [
       "0       michel , littl girl i need you babi more than ...\n",
       "1       it 's rain outsid but that 's not unusu but th...\n",
       "2       ooh ! who need the sky ? just watch me fli i '...\n",
       "3       my babi talk in hi sleep i said wake him up sh...\n",
       "4       well honey-honey pleas do n't go do n't you kn...\n",
       "                              ...                        \n",
       "4995    babi i think we both know it 's gone wrong , w...\n",
       "4996    when i wa a boy i never play with toy never ha...\n",
       "4997    come with me come with me now insid the garden...\n",
       "4998    tri , tri , tri just a littl bit harder so i c...\n",
       "4999    mayb we forc the deal , deliv some kind of blo...\n",
       "Name: text, Length: 5000, dtype: object"
      ]
     },
     "execution_count": 25,
     "metadata": {},
     "output_type": "execute_result"
    }
   ],
   "source": [
    "df['text'].apply(lambda x: token(x))"
   ]
  },
  {
   "cell_type": "code",
   "execution_count": 26,
   "id": "62de6f6e",
   "metadata": {},
   "outputs": [],
   "source": [
    "from sklearn.feature_extraction.text import TfidfVectorizer\n",
    "from sklearn.metrics.pairwise import cosine_similarity"
   ]
  },
  {
   "cell_type": "code",
   "execution_count": 27,
   "id": "7283d4ed",
   "metadata": {},
   "outputs": [],
   "source": [
    "\n",
    "tfidf = TfidfVectorizer(analyzer='word', stop_words='english')"
   ]
  },
  {
   "cell_type": "code",
   "execution_count": 28,
   "id": "07b68a46",
   "metadata": {},
   "outputs": [],
   "source": [
    "matrix = tfidf.fit_transform(df['text'])"
   ]
  },
  {
   "cell_type": "code",
   "execution_count": 29,
   "id": "4b5afc83",
   "metadata": {},
   "outputs": [
    {
     "data": {
      "text/plain": [
       "<5000x24051 sparse matrix of type '<class 'numpy.float64'>'\n",
       "\twith 270327 stored elements in Compressed Sparse Row format>"
      ]
     },
     "execution_count": 29,
     "metadata": {},
     "output_type": "execute_result"
    }
   ],
   "source": [
    "matrix"
   ]
  },
  {
   "cell_type": "code",
   "execution_count": 30,
   "id": "e457a8de",
   "metadata": {},
   "outputs": [
    {
     "data": {
      "text/plain": [
       "array([[1.        , 0.00706092, 0.        , ..., 0.0099011 , 0.03963182,\n",
       "        0.01580223],\n",
       "       [0.00706092, 1.        , 0.        , ..., 0.01476858, 0.01889228,\n",
       "        0.00662615],\n",
       "       [0.        , 0.        , 1.        , ..., 0.00957176, 0.01204325,\n",
       "        0.        ],\n",
       "       ...,\n",
       "       [0.0099011 , 0.01476858, 0.00957176, ..., 1.        , 0.024207  ,\n",
       "        0.        ],\n",
       "       [0.03963182, 0.01889228, 0.01204325, ..., 0.024207  , 1.        ,\n",
       "        0.01850869],\n",
       "       [0.01580223, 0.00662615, 0.        , ..., 0.        , 0.01850869,\n",
       "        1.        ]])"
      ]
     },
     "execution_count": 30,
     "metadata": {},
     "output_type": "execute_result"
    }
   ],
   "source": [
    "cosine_similarity(matrix)"
   ]
  },
  {
   "cell_type": "code",
   "execution_count": 31,
   "id": "f8ad2343",
   "metadata": {},
   "outputs": [],
   "source": [
    "similar = cosine_similarity(matrix)"
   ]
  },
  {
   "cell_type": "code",
   "execution_count": 32,
   "id": "5e3aead2",
   "metadata": {},
   "outputs": [
    {
     "data": {
      "text/plain": [
       "array([1.        , 0.00706092, 0.        , ..., 0.0099011 , 0.03963182,\n",
       "       0.01580223])"
      ]
     },
     "execution_count": 32,
     "metadata": {},
     "output_type": "execute_result"
    }
   ],
   "source": [
    "similar[0]"
   ]
  },
  {
   "cell_type": "markdown",
   "id": "0c9f678e",
   "metadata": {},
   "source": [
    "Recommender Function"
   ]
  },
  {
   "cell_type": "code",
   "execution_count": 33,
   "id": "19cecec7",
   "metadata": {},
   "outputs": [],
   "source": [
    "def recommender(song_name):\n",
    "    idx = df[df['song']==song_name].index[0]\n",
    "    distance = sorted(list(enumerate(similar[idx])), reverse = True, key = lambda x:x[1])\n",
    "    song = []\n",
    "    for s_id in distance[1:20]:             # will recommend 20 songs of same kind\n",
    "        song.append(df.iloc[s_id[0]].song)\n",
    "    return song"
   ]
  },
  {
   "cell_type": "code",
   "execution_count": 34,
   "id": "f4b8f788",
   "metadata": {},
   "outputs": [
    {
     "data": {
      "text/plain": [
       "['Get It Right This Time',\n",
       " \"He Isn't You\",\n",
       " 'Time After Time',\n",
       " \"It's About Time\",\n",
       " 'Better',\n",
       " 'Marry You',\n",
       " 'Shot Me In The Heart',\n",
       " \"Kissin' Time\",\n",
       " \"It's Alright\",\n",
       " \"Don't Stop\",\n",
       " 'Dark Fantasy',\n",
       " \"If I Can't Have You\",\n",
       " 'War Games',\n",
       " 'Midnight Blue',\n",
       " \"I Can't Find The Time\",\n",
       " 'Kenny Goes To Hell',\n",
       " 'Soldier',\n",
       " 'Help Me Remember',\n",
       " 'Time To Kill']"
      ]
     },
     "execution_count": 34,
     "metadata": {},
     "output_type": "execute_result"
    }
   ],
   "source": [
    "recommender(\"Isn't It Time\")   "
   ]
  },
  {
   "cell_type": "code",
   "execution_count": 35,
   "id": "8236f552",
   "metadata": {},
   "outputs": [],
   "source": [
    "import pickle"
   ]
  },
  {
   "cell_type": "code",
   "execution_count": 36,
   "id": "625441da",
   "metadata": {},
   "outputs": [],
   "source": [
    "similar='similar.pkl'"
   ]
  },
  {
   "cell_type": "code",
   "execution_count": 45,
   "id": "92e10709",
   "metadata": {},
   "outputs": [],
   "source": [
    "pickle.dump(similar, open(\"similar\",\"wb\"))"
   ]
  },
  {
   "cell_type": "code",
   "execution_count": 64,
   "id": "0bf73b80",
   "metadata": {},
   "outputs": [],
   "source": [
    "pickle.dump(similar, open(\"similarity.pkl\",\"wb\"))"
   ]
  },
  {
   "cell_type": "code",
   "execution_count": 44,
   "id": "48606c65",
   "metadata": {},
   "outputs": [],
   "source": [
    "similarity = pickle.load(open(similar,'rb'))"
   ]
  },
  {
   "cell_type": "code",
   "execution_count": 43,
   "id": "bbe7e7cf",
   "metadata": {},
   "outputs": [],
   "source": [
    "df = 'df.pkl'"
   ]
  },
  {
   "cell_type": "code",
   "execution_count": 45,
   "id": "c4ed536b",
   "metadata": {},
   "outputs": [],
   "source": [
    "pickle.dump(df, open(\"df\", \"wb\"))"
   ]
  },
  {
   "cell_type": "code",
   "execution_count": 46,
   "id": "36c0b1ac",
   "metadata": {},
   "outputs": [],
   "source": [
    "pickle.dump(df, open(\"df.pkl\",\"wb\"))"
   ]
  },
  {
   "cell_type": "code",
   "execution_count": 47,
   "id": "a4d0da7d",
   "metadata": {},
   "outputs": [],
   "source": [
    "df=pickle.load(open(df,'rb'))"
   ]
  },
  {
   "cell_type": "code",
   "execution_count": null,
   "id": "02c76e5e",
   "metadata": {},
   "outputs": [],
   "source": []
  },
  {
   "cell_type": "code",
   "execution_count": null,
   "id": "8b044dd4",
   "metadata": {},
   "outputs": [],
   "source": []
  }
 ],
 "metadata": {
  "kernelspec": {
   "display_name": "Python 3 (ipykernel)",
   "language": "python",
   "name": "python3"
  },
  "language_info": {
   "codemirror_mode": {
    "name": "ipython",
    "version": 3
   },
   "file_extension": ".py",
   "mimetype": "text/x-python",
   "name": "python",
   "nbconvert_exporter": "python",
   "pygments_lexer": "ipython3",
   "version": "3.11.5"
  }
 },
 "nbformat": 4,
 "nbformat_minor": 5
}
